{
 "cells": [
  {
   "cell_type": "code",
   "execution_count": 2,
   "id": "d4c217f0-5b43-452d-bdc8-1f309bdc5533",
   "metadata": {},
   "outputs": [],
   "source": [
    "#1.Explain the key features of python that make it a popular choice for programming"
   ]
  },
  {
   "cell_type": "markdown",
   "id": "f4a777fc-d920-48a3-ae61-1f5eb4602c5c",
   "metadata": {},
   "source": [
    "Readablity and Simplicity,Extensive standard libraries, cross-platform combatibilty,large community,strong support for data science and Machine learning\n",
    "\n"
   ]
  },
  {
   "cell_type": "code",
   "execution_count": 3,
   "id": "de5fb462-a281-4057-aa95-09fd0d9738b3",
   "metadata": {},
   "outputs": [],
   "source": [
    "#2.Describe the role of predefined keywords in Python and provide examples of how they are used in a program\n"
   ]
  },
  {
   "cell_type": "markdown",
   "id": "d7b90196-74bf-4d27-aa55-deb080dbb454",
   "metadata": {},
   "source": [
    "Predefined keywords in Python play a crucial role in the language's syntax and functionality. These keywords are reserved words that have special meanings and are integral to the language's structure eg:print,if,try,expect,finally,while..."
   ]
  },
  {
   "cell_type": "code",
   "execution_count": 7,
   "id": "bf6b2483-f8d4-4e6d-89f0-3e0dc9cfa689",
   "metadata": {},
   "outputs": [
    {
     "name": "stdout",
     "output_type": "stream",
     "text": [
      " if is an example for keywords\n"
     ]
    }
   ],
   "source": [
    "#example>> if\n",
    "i=\"Athul\"\n",
    "if (i == \"Athul\"):\n",
    "    print(\" if is an example for keywords\") \n"
   ]
  },
  {
   "cell_type": "code",
   "execution_count": null,
   "id": "0c065b13-f37d-4e8f-8215-4470ac347f2c",
   "metadata": {},
   "outputs": [],
   "source": [
    "#3.Compare and contrast mutable and inmutable objects in Python with examples."
   ]
  },
  {
   "cell_type": "markdown",
   "id": "d9b9dcd1-4914-40c2-a4b5-366723124f06",
   "metadata": {},
   "source": [
    "In Python, objects can be classified as mutable or immutable based on whether their state (data) can be changed after they are created. example>> mutable: list,dict,set \n",
    "inmutable:Tuples,strings,integer"
   ]
  },
  {
   "cell_type": "code",
   "execution_count": 11,
   "id": "9f0b1984-421d-44da-bfdd-18bb2e5f4755",
   "metadata": {},
   "outputs": [
    {
     "name": "stdout",
     "output_type": "stream",
     "text": [
      "[1, 2, 3, 4]\n",
      "[1, 2, 3, 5]\n"
     ]
    }
   ],
   "source": [
    "#mutable\n",
    "a=[1,2,3,4]\n",
    "print(a)\n",
    "a[3]=5\n",
    "print(a)"
   ]
  },
  {
   "cell_type": "code",
   "execution_count": 13,
   "id": "71df4f93-da45-4828-b5ff-94729317a13a",
   "metadata": {},
   "outputs": [
    {
     "ename": "TypeError",
     "evalue": "'str' object does not support item assignment",
     "output_type": "error",
     "traceback": [
      "\u001b[0;31m---------------------------------------------------------------------------\u001b[0m",
      "\u001b[0;31mTypeError\u001b[0m                                 Traceback (most recent call last)",
      "Cell \u001b[0;32mIn[13], line 3\u001b[0m\n\u001b[1;32m      1\u001b[0m \u001b[38;5;66;03m#inmutable\u001b[39;00m\n\u001b[1;32m      2\u001b[0m a\u001b[38;5;241m=\u001b[39m\u001b[38;5;124m\"\u001b[39m\u001b[38;5;124mathul\u001b[39m\u001b[38;5;124m\"\u001b[39m\n\u001b[0;32m----> 3\u001b[0m \u001b[43ma\u001b[49m\u001b[43m[\u001b[49m\u001b[38;5;241;43m1\u001b[39;49m\u001b[43m]\u001b[49m\u001b[38;5;241m=\u001b[39m\u001b[38;5;124m\"\u001b[39m\u001b[38;5;124mu\u001b[39m\u001b[38;5;124m\"\u001b[39m\n",
      "\u001b[0;31mTypeError\u001b[0m: 'str' object does not support item assignment"
     ]
    }
   ],
   "source": [
    "#inmutable\n",
    "a=\"athul\"\n",
    "a[1]=\"u\" #not perform because it is inmutable"
   ]
  },
  {
   "cell_type": "code",
   "execution_count": 14,
   "id": "f79552d9-c476-49ff-9c71-5432d75f493d",
   "metadata": {},
   "outputs": [],
   "source": [
    "#4 Discuss the different types of operators in Python and provide examples of how they are used."
   ]
  },
  {
   "cell_type": "markdown",
   "id": "93f5353e-fe02-496e-9169-87ac9b61fd71",
   "metadata": {},
   "source": [
    "\n",
    "Python provides a variety of operators that allow you to perform operations on variables and values. These operators can be categorized into several types: arithmetic, assignment, comparison, logical, bitwise, membership, and identity operators\n",
    "Arithmetic operator : +,-,*,%,/,**\n",
    "assignment operator : =,+=,-=,*=,/=\n",
    "comparison operator: ==,!=,>=,<=,<,>\n",
    "logical operatorr : AND, OR,NOT\n",
    "bitwise operatora: &,|,<<,>>,^,~\n",
    "membership operator: in ,not in\n",
    "identity operator : is, is not"
   ]
  },
  {
   "cell_type": "code",
   "execution_count": 17,
   "id": "951d1d85-84db-47d7-a0f9-41802dbef7d0",
   "metadata": {},
   "outputs": [
    {
     "data": {
      "text/plain": [
       "11"
      ]
     },
     "execution_count": 17,
     "metadata": {},
     "output_type": "execute_result"
    }
   ],
   "source": [
    "#examples\n",
    "\n",
    "a=5 #assignment operator \n",
    "b=6\n",
    "s=a+b #Arithmetic operator >>  \"+\" addition\n",
    "s"
   ]
  },
  {
   "cell_type": "code",
   "execution_count": 19,
   "id": "35c9971e-5d1b-46a7-97f7-ea9ef408695d",
   "metadata": {},
   "outputs": [
    {
     "name": "stdout",
     "output_type": "stream",
     "text": [
      "example of comparison\n"
     ]
    }
   ],
   "source": [
    "a=10\n",
    "if ( a == 10 ):\n",
    "    print(\"example of comparison\")#comparison"
   ]
  },
  {
   "cell_type": "code",
   "execution_count": 23,
   "id": "666da991-f51b-4cdd-be31-8b5381bd919f",
   "metadata": {},
   "outputs": [
    {
     "data": {
      "text/plain": [
       "True"
      ]
     },
     "execution_count": 23,
     "metadata": {},
     "output_type": "execute_result"
    }
   ],
   "source": [
    "True or False # logical OR"
   ]
  },
  {
   "cell_type": "code",
   "execution_count": 24,
   "id": "aa195640-a987-43fb-949b-8fc594f09a0c",
   "metadata": {},
   "outputs": [
    {
     "data": {
      "text/plain": [
       "10"
      ]
     },
     "execution_count": 24,
     "metadata": {},
     "output_type": "execute_result"
    }
   ],
   "source": [
    "10&10 # bitwise AND"
   ]
  },
  {
   "cell_type": "code",
   "execution_count": 32,
   "id": "8e366182-a4b5-430c-8d28-3bcb62db62e5",
   "metadata": {},
   "outputs": [
    {
     "name": "stdout",
     "output_type": "stream",
     "text": [
      "example of membership\n"
     ]
    }
   ],
   "source": [
    "i = \"Athul\"\n",
    "if \"h\" in i:\n",
    "    print(\"example of membership\")\n"
   ]
  },
  {
   "cell_type": "code",
   "execution_count": 34,
   "id": "ff572673-ff3d-4a0d-91fa-e71825a42ef3",
   "metadata": {},
   "outputs": [
    {
     "data": {
      "text/plain": [
       "True"
      ]
     },
     "execution_count": 34,
     "metadata": {},
     "output_type": "execute_result"
    }
   ],
   "source": [
    "a=10\n",
    "b=10\n",
    "a is b #identity operator"
   ]
  },
  {
   "cell_type": "code",
   "execution_count": null,
   "id": "84abe9e8-eb4b-44f9-94d2-2f92ba128037",
   "metadata": {},
   "outputs": [],
   "source": [
    "#5  explain the concept of type casting in Python with examples."
   ]
  },
  {
   "cell_type": "markdown",
   "id": "7302046e-93a0-43bc-8f23-977e56078a5c",
   "metadata": {},
   "source": [
    "Type casting, or type conversion, in Python refers to converting one data type into another. This is useful when you need to perform operations that require data to be in a specific format."
   ]
  },
  {
   "cell_type": "code",
   "execution_count": 35,
   "id": "888cad55-8dd9-4575-88fb-30c677381177",
   "metadata": {},
   "outputs": [
    {
     "data": {
      "text/plain": [
       "str"
      ]
     },
     "execution_count": 35,
     "metadata": {},
     "output_type": "execute_result"
    }
   ],
   "source": [
    "#example\n",
    "a=\"5\"\n",
    "type(\"a\")"
   ]
  },
  {
   "cell_type": "code",
   "execution_count": 37,
   "id": "85905cc5-8e50-4f60-a399-27259666c2b0",
   "metadata": {},
   "outputs": [
    {
     "data": {
      "text/plain": [
       "int"
      ]
     },
     "execution_count": 37,
     "metadata": {},
     "output_type": "execute_result"
    }
   ],
   "source": [
    "a=\"5\"\n",
    "type(int(a))"
   ]
  },
  {
   "cell_type": "code",
   "execution_count": 38,
   "id": "efe4bf50-a18d-49b3-8b16-980e55226eb6",
   "metadata": {},
   "outputs": [],
   "source": [
    "#6.How do conditional statements work in Python? Illustrate with examples.\n"
   ]
  },
  {
   "cell_type": "markdown",
   "id": "8e063051-95a7-4018-9279-ea7fdf356438",
   "metadata": {},
   "source": [
    "Conditional statements in Python allow you to execute certain blocks of code based on whether a condition is true or false\n",
    "they are:\n",
    "if\n",
    "if else\n",
    "elif\n",
    "nested if else"
   ]
  },
  {
   "cell_type": "code",
   "execution_count": 39,
   "id": "e5732774-2ccd-4591-993d-d0d0f8843e74",
   "metadata": {},
   "outputs": [],
   "source": [
    "#grade system"
   ]
  },
  {
   "cell_type": "code",
   "execution_count": null,
   "id": "035702c2-8732-4aaa-8407-97374a665bf3",
   "metadata": {},
   "outputs": [],
   "source": [
    "mark = 45\n",
    "\n",
    "if (mark > 90): #if condition true the execute the if block\n",
    "    print(\"A\")\n",
    "elif ( 90 > mark >= 80):\n",
    "    print(\"B\")\n",
    "elif ( 80 > mark >= 70):\n",
    "    print(\"c\")\n",
    "else:\n",
    "    print(\"you and undergrade\")\n",
    "\n"
   ]
  },
  {
   "cell_type": "code",
   "execution_count": null,
   "id": "b0fbc85d-75b0-494b-b62a-c13629ed49af",
   "metadata": {},
   "outputs": [],
   "source": [
    "#nested if \n",
    "#eg>> play football if  ground is dry and sunny weather"
   ]
  },
  {
   "cell_type": "code",
   "execution_count": null,
   "id": "7abadd79-d2cb-4ab1-8488-51cea777fb69",
   "metadata": {},
   "outputs": [],
   "source": [
    "weather = \"sunny\"\n",
    "ground = \"dry\"\n",
    "if weather == \"sunny\":\n",
    "    if ground == \"dry\" :\n",
    "        print(\" Can play\")\n",
    "    else:\n",
    "        print(\"Cannot play because ground is not dry\")\n",
    "else:\n",
    "    print(\"cannot play\")"
   ]
  },
  {
   "cell_type": "code",
   "execution_count": null,
   "id": "3958b279-d987-4170-9b66-d959ca403a3d",
   "metadata": {},
   "outputs": [],
   "source": [
    "# Describe the different types of loops in Python and their use cases with examples."
   ]
  },
  {
   "cell_type": "markdown",
   "id": "e32755a8-85bc-429e-ab99-05ab7f0df3a2",
   "metadata": {},
   "source": [
    "In Python, there are two primary types of loops: for loops and while loops. Each type of loop serves a different purpose and is used in various scenarios to execute a block of code multiple times."
   ]
  },
  {
   "cell_type": "code",
   "execution_count": null,
   "id": "e2b60a07-e8e3-45fd-a593-465938d24eed",
   "metadata": {},
   "outputs": [],
   "source": [
    "#while loop\n",
    "#print the even number using while loop upto 10"
   ]
  },
  {
   "cell_type": "code",
   "execution_count": 1,
   "id": "74bb7887-4091-4d35-b579-79a9f256fe4c",
   "metadata": {},
   "outputs": [
    {
     "name": "stdout",
     "output_type": "stream",
     "text": [
      "2\n",
      "4\n",
      "6\n",
      "8\n",
      "10\n"
     ]
    }
   ],
   "source": [
    "i=2\n",
    "while ( i <= 10):\n",
    "    if i % 2 == 0:\n",
    "        print(i)\n",
    "    i += 1\n",
    "    "
   ]
  },
  {
   "cell_type": "code",
   "execution_count": null,
   "id": "a943000f-966f-482a-8317-3aa4ddae5a98",
   "metadata": {},
   "outputs": [],
   "source": [
    "#print the even number using for loop"
   ]
  },
  {
   "cell_type": "code",
   "execution_count": 2,
   "id": "7de94f6a-c0ea-4f3a-97ac-d7cb48c35f33",
   "metadata": {},
   "outputs": [
    {
     "name": "stdout",
     "output_type": "stream",
     "text": [
      "2\n",
      "4\n",
      "6\n",
      "8\n",
      "10\n"
     ]
    }
   ],
   "source": [
    "for i in range(2,11,2):\n",
    "    print(i)"
   ]
  },
  {
   "cell_type": "code",
   "execution_count": null,
   "id": "f46a5acc-971a-412c-be14-cd9259ee826f",
   "metadata": {},
   "outputs": [],
   "source": []
  },
  {
   "cell_type": "code",
   "execution_count": null,
   "id": "4e8c1c4a-e7f0-4ecc-85c2-4c43ff42b396",
   "metadata": {},
   "outputs": [],
   "source": []
  },
  {
   "cell_type": "code",
   "execution_count": null,
   "id": "8bc4f661-c03f-4519-94b6-a94162d5c318",
   "metadata": {},
   "outputs": [],
   "source": []
  }
 ],
 "metadata": {
  "kernelspec": {
   "display_name": "Python 3 (ipykernel)",
   "language": "python",
   "name": "python3"
  },
  "language_info": {
   "codemirror_mode": {
    "name": "ipython",
    "version": 3
   },
   "file_extension": ".py",
   "mimetype": "text/x-python",
   "name": "python",
   "nbconvert_exporter": "python",
   "pygments_lexer": "ipython3",
   "version": "3.10.8"
  }
 },
 "nbformat": 4,
 "nbformat_minor": 5
}
